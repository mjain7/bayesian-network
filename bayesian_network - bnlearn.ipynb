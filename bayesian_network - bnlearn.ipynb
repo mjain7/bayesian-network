{
 "cells": [
  {
   "cell_type": "code",
   "execution_count": 1,
   "id": "15a06156",
   "metadata": {},
   "outputs": [],
   "source": [
    "import os\n",
    "import math\n",
    "import pandas as pd\n",
    "import bnlearn as bn\n",
    "import seaborn as sns"
   ]
  },
  {
   "cell_type": "code",
   "execution_count": 2,
   "id": "22e50e00",
   "metadata": {},
   "outputs": [
    {
     "data": {
      "text/html": [
       "<div>\n",
       "<style scoped>\n",
       "    .dataframe tbody tr th:only-of-type {\n",
       "        vertical-align: middle;\n",
       "    }\n",
       "\n",
       "    .dataframe tbody tr th {\n",
       "        vertical-align: top;\n",
       "    }\n",
       "\n",
       "    .dataframe thead th {\n",
       "        text-align: right;\n",
       "    }\n",
       "</style>\n",
       "<table border=\"1\" class=\"dataframe\">\n",
       "  <thead>\n",
       "    <tr style=\"text-align: right;\">\n",
       "      <th></th>\n",
       "      <th>subjectivity</th>\n",
       "      <th>polarity</th>\n",
       "      <th>sentiment</th>\n",
       "      <th>djia_close1</th>\n",
       "      <th>djia_volume</th>\n",
       "      <th>qqq_close</th>\n",
       "      <th>axjo_close</th>\n",
       "      <th>clf_close</th>\n",
       "      <th>djia_close2</th>\n",
       "    </tr>\n",
       "  </thead>\n",
       "  <tbody>\n",
       "    <tr>\n",
       "      <th>0</th>\n",
       "      <td>subjective</td>\n",
       "      <td>negative</td>\n",
       "      <td>negative</td>\n",
       "      <td>up</td>\n",
       "      <td>down</td>\n",
       "      <td>up</td>\n",
       "      <td>up</td>\n",
       "      <td>down</td>\n",
       "      <td>down</td>\n",
       "    </tr>\n",
       "    <tr>\n",
       "      <th>1</th>\n",
       "      <td>subjective</td>\n",
       "      <td>positive</td>\n",
       "      <td>negative</td>\n",
       "      <td>down</td>\n",
       "      <td>down</td>\n",
       "      <td>up</td>\n",
       "      <td>up</td>\n",
       "      <td>down</td>\n",
       "      <td>down</td>\n",
       "    </tr>\n",
       "    <tr>\n",
       "      <th>2</th>\n",
       "      <td>objective</td>\n",
       "      <td>negative</td>\n",
       "      <td>negative</td>\n",
       "      <td>down</td>\n",
       "      <td>up</td>\n",
       "      <td>down</td>\n",
       "      <td>down</td>\n",
       "      <td>up</td>\n",
       "      <td>up</td>\n",
       "    </tr>\n",
       "    <tr>\n",
       "      <th>3</th>\n",
       "      <td>subjective</td>\n",
       "      <td>positive</td>\n",
       "      <td>negative</td>\n",
       "      <td>up</td>\n",
       "      <td>down</td>\n",
       "      <td>up</td>\n",
       "      <td>up</td>\n",
       "      <td>down</td>\n",
       "      <td>up</td>\n",
       "    </tr>\n",
       "    <tr>\n",
       "      <th>4</th>\n",
       "      <td>subjective</td>\n",
       "      <td>positive</td>\n",
       "      <td>negative</td>\n",
       "      <td>up</td>\n",
       "      <td>up</td>\n",
       "      <td>down</td>\n",
       "      <td>up</td>\n",
       "      <td>down</td>\n",
       "      <td>down</td>\n",
       "    </tr>\n",
       "  </tbody>\n",
       "</table>\n",
       "</div>"
      ],
      "text/plain": [
       "  subjectivity  polarity sentiment djia_close1 djia_volume qqq_close  \\\n",
       "0   subjective  negative  negative          up        down        up   \n",
       "1   subjective  positive  negative        down        down        up   \n",
       "2    objective  negative  negative        down          up      down   \n",
       "3   subjective  positive  negative          up        down        up   \n",
       "4   subjective  positive  negative          up          up      down   \n",
       "\n",
       "  axjo_close clf_close djia_close2  \n",
       "0         up      down        down  \n",
       "1         up      down        down  \n",
       "2       down        up          up  \n",
       "3         up      down          up  \n",
       "4         up      down        down  "
      ]
     },
     "execution_count": 2,
     "metadata": {},
     "output_type": "execute_result"
    }
   ],
   "source": [
    "df_train = pd.read_csv('data/processed_train.csv')\n",
    "df_train = df_train.drop(columns=['Date'], axis=1)\n",
    "df_train.head(5)"
   ]
  },
  {
   "cell_type": "code",
   "execution_count": 3,
   "id": "76dd9e4d",
   "metadata": {},
   "outputs": [
    {
     "data": {
      "text/html": [
       "<div>\n",
       "<style scoped>\n",
       "    .dataframe tbody tr th:only-of-type {\n",
       "        vertical-align: middle;\n",
       "    }\n",
       "\n",
       "    .dataframe tbody tr th {\n",
       "        vertical-align: top;\n",
       "    }\n",
       "\n",
       "    .dataframe thead th {\n",
       "        text-align: right;\n",
       "    }\n",
       "</style>\n",
       "<table border=\"1\" class=\"dataframe\">\n",
       "  <thead>\n",
       "    <tr style=\"text-align: right;\">\n",
       "      <th></th>\n",
       "      <th>polarity</th>\n",
       "      <th>djia_close1</th>\n",
       "      <th>qqq_close</th>\n",
       "      <th>axjo_close</th>\n",
       "      <th>clf_close</th>\n",
       "      <th>djia_close2</th>\n",
       "    </tr>\n",
       "  </thead>\n",
       "  <tbody>\n",
       "    <tr>\n",
       "      <th>0</th>\n",
       "      <td>negative</td>\n",
       "      <td>up</td>\n",
       "      <td>up</td>\n",
       "      <td>up</td>\n",
       "      <td>down</td>\n",
       "      <td>down</td>\n",
       "    </tr>\n",
       "    <tr>\n",
       "      <th>1</th>\n",
       "      <td>positive</td>\n",
       "      <td>down</td>\n",
       "      <td>up</td>\n",
       "      <td>up</td>\n",
       "      <td>down</td>\n",
       "      <td>down</td>\n",
       "    </tr>\n",
       "    <tr>\n",
       "      <th>2</th>\n",
       "      <td>negative</td>\n",
       "      <td>down</td>\n",
       "      <td>down</td>\n",
       "      <td>down</td>\n",
       "      <td>up</td>\n",
       "      <td>up</td>\n",
       "    </tr>\n",
       "    <tr>\n",
       "      <th>3</th>\n",
       "      <td>positive</td>\n",
       "      <td>up</td>\n",
       "      <td>up</td>\n",
       "      <td>up</td>\n",
       "      <td>down</td>\n",
       "      <td>up</td>\n",
       "    </tr>\n",
       "    <tr>\n",
       "      <th>4</th>\n",
       "      <td>positive</td>\n",
       "      <td>up</td>\n",
       "      <td>down</td>\n",
       "      <td>up</td>\n",
       "      <td>down</td>\n",
       "      <td>down</td>\n",
       "    </tr>\n",
       "  </tbody>\n",
       "</table>\n",
       "</div>"
      ],
      "text/plain": [
       "   polarity djia_close1 qqq_close axjo_close clf_close djia_close2\n",
       "0  negative          up        up         up      down        down\n",
       "1  positive        down        up         up      down        down\n",
       "2  negative        down      down       down        up          up\n",
       "3  positive          up        up         up      down          up\n",
       "4  positive          up      down         up      down        down"
      ]
     },
     "execution_count": 3,
     "metadata": {},
     "output_type": "execute_result"
    }
   ],
   "source": [
    "df_train = df_train.drop(columns=['sentiment','subjectivity','djia_volume'], axis=1)\n",
    "df_train.head()"
   ]
  },
  {
   "cell_type": "code",
   "execution_count": 4,
   "id": "1f2b8532",
   "metadata": {},
   "outputs": [
    {
     "data": {
      "text/plain": [
       "(1804, 6)"
      ]
     },
     "execution_count": 4,
     "metadata": {},
     "output_type": "execute_result"
    }
   ],
   "source": [
    "df_train.shape"
   ]
  },
  {
   "cell_type": "code",
   "execution_count": 5,
   "id": "41087991",
   "metadata": {},
   "outputs": [
    {
     "name": "stdout",
     "output_type": "stream",
     "text": [
      "polarity: 2\n",
      "djia_close1: 2\n",
      "qqq_close: 2\n",
      "axjo_close: 2\n",
      "clf_close: 2\n",
      "djia_close2: 2\n"
     ]
    }
   ],
   "source": [
    "for k in df_train.keys():\n",
    "    print('{0}: {1}'.format(k, len(df_train[k].unique())))"
   ]
  },
  {
   "cell_type": "code",
   "execution_count": 6,
   "id": "681ec538",
   "metadata": {},
   "outputs": [
    {
     "name": "stdout",
     "output_type": "stream",
     "text": [
      "[bnlearn] >Bayesian DAG created.\n"
     ]
    }
   ],
   "source": [
    "edges = [('djia_close1', 'djia_close2'),\n",
    "         ('qqq_close', 'djia_close2'),\n",
    "         ('axjo_close', 'djia_close2'),\n",
    "         ('clf_close', 'axjo_close'),\n",
    "        ('polarity', 'djia_close1')]\n",
    "\n",
    "# Create the DAG\n",
    "DAG = bn.make_DAG(edges)\n",
    "#DAG = bn.structure_learning.fit(df_train, methodtype='hc', scoretype='k2')"
   ]
  },
  {
   "cell_type": "code",
   "execution_count": 7,
   "id": "4a496c3e",
   "metadata": {},
   "outputs": [
    {
     "name": "stdout",
     "output_type": "stream",
     "text": [
      "[bnlearn]> Set node properties.\n",
      "[bnlearn] >Plot based on BayesianModel\n"
     ]
    },
    {
     "data": {
      "image/png": "[encoded data removed]",
      "text/plain": [
       "<Figure size 1080x576 with 1 Axes>"
      ]
     },
     "metadata": {},
     "output_type": "display_data"
    }
   ],
   "source": [
    "G = bn.plot(DAG)"
   ]
  },
  {
   "cell_type": "code",
   "execution_count": 8,
   "id": "050829e9",
   "metadata": {},
   "outputs": [
    {
     "name": "stdout",
     "output_type": "stream",
     "text": [
      "[bnlearn] >Parameter learning> Computing parameters using [bayes]\n",
      "[bnlearn] >CPD of djia_close1:\n",
      "+-------------------+---------------------+--------------------+\n",
      "| polarity          | polarity(negative)  | polarity(positive) |\n",
      "+-------------------+---------------------+--------------------+\n",
      "| djia_close1(down) | 0.48942042318307266 | 0.4670937682003494 |\n",
      "+-------------------+---------------------+--------------------+\n",
      "| djia_close1(up)   | 0.5105795768169273  | 0.5329062317996506 |\n",
      "+-------------------+---------------------+--------------------+\n",
      "[bnlearn] >CPD of djia_close2:\n",
      "+-------------------+-----+--------------------+\n",
      "| axjo_close        | ... | axjo_close(up)     |\n",
      "+-------------------+-----+--------------------+\n",
      "| djia_close1       | ... | djia_close1(up)    |\n",
      "+-------------------+-----+--------------------+\n",
      "| qqq_close         | ... | qqq_close(up)      |\n",
      "+-------------------+-----+--------------------+\n",
      "| djia_close2(down) | ... | 0.4846153846153846 |\n",
      "+-------------------+-----+--------------------+\n",
      "| djia_close2(up)   | ... | 0.5153846153846153 |\n",
      "+-------------------+-----+--------------------+\n",
      "[bnlearn] >CPD of qqq_close:\n",
      "+-----------------+----------+\n",
      "| qqq_close(down) | 0.467903 |\n",
      "+-----------------+----------+\n",
      "| qqq_close(up)   | 0.532097 |\n",
      "+-----------------+----------+\n",
      "[bnlearn] >CPD of axjo_close:\n",
      "+------------------+--------------------+---------------------+\n",
      "| clf_close        | clf_close(down)    | clf_close(up)       |\n",
      "+------------------+--------------------+---------------------+\n",
      "| axjo_close(down) | 0.5028248587570622 | 0.47046109510086453 |\n",
      "+------------------+--------------------+---------------------+\n",
      "| axjo_close(up)   | 0.4971751412429379 | 0.5295389048991355  |\n",
      "+------------------+--------------------+---------------------+\n",
      "[bnlearn] >CPD of clf_close:\n",
      "+-----------------+----------+\n",
      "| clf_close(down) | 0.504993 |\n",
      "+-----------------+----------+\n",
      "| clf_close(up)   | 0.495007 |\n",
      "+-----------------+----------+\n",
      "[bnlearn] >CPD of polarity:\n",
      "+--------------------+---------+\n",
      "| polarity(negative) | 0.38766 |\n",
      "+--------------------+---------+\n",
      "| polarity(positive) | 0.61234 |\n",
      "+--------------------+---------+\n"
     ]
    }
   ],
   "source": [
    "model = bn.parameter_learning.fit(DAG, df_train, verbose=3)"
   ]
  },
  {
   "cell_type": "code",
   "execution_count": 9,
   "id": "67423728",
   "metadata": {},
   "outputs": [
    {
     "data": {
      "text/html": [
       "<div>\n",
       "<style scoped>\n",
       "    .dataframe tbody tr th:only-of-type {\n",
       "        vertical-align: middle;\n",
       "    }\n",
       "\n",
       "    .dataframe tbody tr th {\n",
       "        vertical-align: top;\n",
       "    }\n",
       "\n",
       "    .dataframe thead th {\n",
       "        text-align: right;\n",
       "    }\n",
       "</style>\n",
       "<table border=\"1\" class=\"dataframe\">\n",
       "  <thead>\n",
       "    <tr style=\"text-align: right;\">\n",
       "      <th></th>\n",
       "      <th>polarity</th>\n",
       "      <th>djia_close1</th>\n",
       "      <th>qqq_close</th>\n",
       "      <th>axjo_close</th>\n",
       "      <th>clf_close</th>\n",
       "      <th>djia_close2</th>\n",
       "    </tr>\n",
       "  </thead>\n",
       "  <tbody>\n",
       "    <tr>\n",
       "      <th>0</th>\n",
       "      <td>positive</td>\n",
       "      <td>up</td>\n",
       "      <td>down</td>\n",
       "      <td>down</td>\n",
       "      <td>down</td>\n",
       "      <td>down</td>\n",
       "    </tr>\n",
       "    <tr>\n",
       "      <th>1</th>\n",
       "      <td>positive</td>\n",
       "      <td>down</td>\n",
       "      <td>down</td>\n",
       "      <td>down</td>\n",
       "      <td>down</td>\n",
       "      <td>down</td>\n",
       "    </tr>\n",
       "    <tr>\n",
       "      <th>2</th>\n",
       "      <td>negative</td>\n",
       "      <td>down</td>\n",
       "      <td>down</td>\n",
       "      <td>down</td>\n",
       "      <td>down</td>\n",
       "      <td>down</td>\n",
       "    </tr>\n",
       "    <tr>\n",
       "      <th>3</th>\n",
       "      <td>positive</td>\n",
       "      <td>down</td>\n",
       "      <td>down</td>\n",
       "      <td>down</td>\n",
       "      <td>down</td>\n",
       "      <td>up</td>\n",
       "    </tr>\n",
       "    <tr>\n",
       "      <th>4</th>\n",
       "      <td>positive</td>\n",
       "      <td>up</td>\n",
       "      <td>up</td>\n",
       "      <td>down</td>\n",
       "      <td>down</td>\n",
       "      <td>up</td>\n",
       "    </tr>\n",
       "  </tbody>\n",
       "</table>\n",
       "</div>"
      ],
      "text/plain": [
       "   polarity djia_close1 qqq_close axjo_close clf_close djia_close2\n",
       "0  positive          up      down       down      down        down\n",
       "1  positive        down      down       down      down        down\n",
       "2  negative        down      down       down      down        down\n",
       "3  positive        down      down       down      down          up\n",
       "4  positive          up        up       down      down          up"
      ]
     },
     "execution_count": 9,
     "metadata": {},
     "output_type": "execute_result"
    }
   ],
   "source": [
    "df_test = pd.read_csv('data/processed_test.csv')\n",
    "df_test = df_test.drop(columns=['Date','sentiment','subjectivity','djia_volume'], axis=1)\n",
    "df_test.head()"
   ]
  },
  {
   "cell_type": "code",
   "execution_count": 10,
   "id": "fae01970",
   "metadata": {},
   "outputs": [
    {
     "data": {
      "text/plain": [
       "(120, 6)"
      ]
     },
     "execution_count": 10,
     "metadata": {},
     "output_type": "execute_result"
    }
   ],
   "source": [
    "df_test.shape"
   ]
  },
  {
   "cell_type": "code",
   "execution_count": 11,
   "id": "68100294",
   "metadata": {},
   "outputs": [
    {
     "name": "stdout",
     "output_type": "stream",
     "text": [
      "[bnlearn]> Remaining columns for inference: 5\n"
     ]
    },
    {
     "name": "stderr",
     "output_type": "stream",
     "text": [
      "100%|██████████| 28/28 [00:00<00:00, 67.16it/s]\n"
     ]
    }
   ],
   "source": [
    "Pout = bn.predict(model, df_test, variables=['djia_close2'])"
   ]
  },
  {
   "cell_type": "code",
   "execution_count": 12,
   "id": "f6e2ce7c",
   "metadata": {},
   "outputs": [],
   "source": [
    "for index in range(Pout.shape[0]):\n",
    "    if (Pout['djia_close2'][index] == 1):\n",
    "        Pout.loc[index, 'djia_close2_pred'] = 'up'\n",
    "    else:\n",
    "        Pout.loc[index, 'djia_close2_pred'] = 'down'"
   ]
  },
  {
   "cell_type": "code",
   "execution_count": 13,
   "id": "b793ea9d",
   "metadata": {},
   "outputs": [
    {
     "data": {
      "text/html": [
       "<div>\n",
       "<style scoped>\n",
       "    .dataframe tbody tr th:only-of-type {\n",
       "        vertical-align: middle;\n",
       "    }\n",
       "\n",
       "    .dataframe tbody tr th {\n",
       "        vertical-align: top;\n",
       "    }\n",
       "\n",
       "    .dataframe thead th {\n",
       "        text-align: right;\n",
       "    }\n",
       "</style>\n",
       "<table border=\"1\" class=\"dataframe\">\n",
       "  <thead>\n",
       "    <tr style=\"text-align: right;\">\n",
       "      <th></th>\n",
       "      <th>p</th>\n",
       "      <th>djia_close2_pred</th>\n",
       "    </tr>\n",
       "  </thead>\n",
       "  <tbody>\n",
       "    <tr>\n",
       "      <th>0</th>\n",
       "      <td>0.518779</td>\n",
       "      <td>down</td>\n",
       "    </tr>\n",
       "    <tr>\n",
       "      <th>1</th>\n",
       "      <td>0.564718</td>\n",
       "      <td>up</td>\n",
       "    </tr>\n",
       "    <tr>\n",
       "      <th>2</th>\n",
       "      <td>0.564718</td>\n",
       "      <td>up</td>\n",
       "    </tr>\n",
       "    <tr>\n",
       "      <th>3</th>\n",
       "      <td>0.564718</td>\n",
       "      <td>up</td>\n",
       "    </tr>\n",
       "    <tr>\n",
       "      <th>4</th>\n",
       "      <td>0.509615</td>\n",
       "      <td>up</td>\n",
       "    </tr>\n",
       "    <tr>\n",
       "      <th>...</th>\n",
       "      <td>...</td>\n",
       "      <td>...</td>\n",
       "    </tr>\n",
       "    <tr>\n",
       "      <th>115</th>\n",
       "      <td>0.564718</td>\n",
       "      <td>up</td>\n",
       "    </tr>\n",
       "    <tr>\n",
       "      <th>116</th>\n",
       "      <td>0.530048</td>\n",
       "      <td>up</td>\n",
       "    </tr>\n",
       "    <tr>\n",
       "      <th>117</th>\n",
       "      <td>0.509615</td>\n",
       "      <td>up</td>\n",
       "    </tr>\n",
       "    <tr>\n",
       "      <th>118</th>\n",
       "      <td>0.515385</td>\n",
       "      <td>up</td>\n",
       "    </tr>\n",
       "    <tr>\n",
       "      <th>119</th>\n",
       "      <td>0.515385</td>\n",
       "      <td>up</td>\n",
       "    </tr>\n",
       "  </tbody>\n",
       "</table>\n",
       "<p>120 rows × 2 columns</p>\n",
       "</div>"
      ],
      "text/plain": [
       "            p djia_close2_pred\n",
       "0    0.518779             down\n",
       "1    0.564718               up\n",
       "2    0.564718               up\n",
       "3    0.564718               up\n",
       "4    0.509615               up\n",
       "..        ...              ...\n",
       "115  0.564718               up\n",
       "116  0.530048               up\n",
       "117  0.509615               up\n",
       "118  0.515385               up\n",
       "119  0.515385               up\n",
       "\n",
       "[120 rows x 2 columns]"
      ]
     },
     "execution_count": 13,
     "metadata": {},
     "output_type": "execute_result"
    }
   ],
   "source": [
    "Pout = Pout.drop(columns=['djia_close2'])\n",
    "Pout"
   ]
  },
  {
   "cell_type": "code",
   "execution_count": 14,
   "id": "ace37ff9",
   "metadata": {},
   "outputs": [
    {
     "data": {
      "text/plain": [
       "up      106\n",
       "down     14\n",
       "Name: djia_close2_pred, dtype: int64"
      ]
     },
     "execution_count": 14,
     "metadata": {},
     "output_type": "execute_result"
    }
   ],
   "source": [
    "Pout['djia_close2_pred'].value_counts()"
   ]
  },
  {
   "cell_type": "code",
   "execution_count": 15,
   "id": "f54d81f0",
   "metadata": {},
   "outputs": [
    {
     "data": {
      "text/plain": [
       "up      71\n",
       "down    49\n",
       "Name: djia_close2, dtype: int64"
      ]
     },
     "execution_count": 15,
     "metadata": {},
     "output_type": "execute_result"
    }
   ],
   "source": [
    "df_test['djia_close2'].value_counts()"
   ]
  },
  {
   "cell_type": "code",
   "execution_count": 16,
   "id": "a56893ff",
   "metadata": {},
   "outputs": [],
   "source": [
    "df_test2 = pd.read_csv('data/processed_test.csv')"
   ]
  },
  {
   "cell_type": "code",
   "execution_count": 17,
   "id": "b1ad0baf",
   "metadata": {},
   "outputs": [
    {
     "data": {
      "text/html": [
       "<div>\n",
       "<style scoped>\n",
       "    .dataframe tbody tr th:only-of-type {\n",
       "        vertical-align: middle;\n",
       "    }\n",
       "\n",
       "    .dataframe tbody tr th {\n",
       "        vertical-align: top;\n",
       "    }\n",
       "\n",
       "    .dataframe thead th {\n",
       "        text-align: right;\n",
       "    }\n",
       "</style>\n",
       "<table border=\"1\" class=\"dataframe\">\n",
       "  <thead>\n",
       "    <tr style=\"text-align: right;\">\n",
       "      <th></th>\n",
       "      <th>Date</th>\n",
       "      <th>subjectivity</th>\n",
       "      <th>polarity</th>\n",
       "      <th>sentiment</th>\n",
       "      <th>djia_close1</th>\n",
       "      <th>djia_volume</th>\n",
       "      <th>qqq_close</th>\n",
       "      <th>axjo_close</th>\n",
       "      <th>clf_close</th>\n",
       "      <th>djia_close2</th>\n",
       "      <th>p</th>\n",
       "      <th>djia_close2_pred</th>\n",
       "    </tr>\n",
       "  </thead>\n",
       "  <tbody>\n",
       "    <tr>\n",
       "      <th>0</th>\n",
       "      <td>2016-01-04</td>\n",
       "      <td>subjective</td>\n",
       "      <td>positive</td>\n",
       "      <td>negative</td>\n",
       "      <td>up</td>\n",
       "      <td>down</td>\n",
       "      <td>down</td>\n",
       "      <td>down</td>\n",
       "      <td>down</td>\n",
       "      <td>down</td>\n",
       "      <td>0.518779</td>\n",
       "      <td>down</td>\n",
       "    </tr>\n",
       "    <tr>\n",
       "      <th>1</th>\n",
       "      <td>2016-01-05</td>\n",
       "      <td>subjective</td>\n",
       "      <td>positive</td>\n",
       "      <td>negative</td>\n",
       "      <td>down</td>\n",
       "      <td>up</td>\n",
       "      <td>down</td>\n",
       "      <td>down</td>\n",
       "      <td>down</td>\n",
       "      <td>down</td>\n",
       "      <td>0.564718</td>\n",
       "      <td>up</td>\n",
       "    </tr>\n",
       "    <tr>\n",
       "      <th>2</th>\n",
       "      <td>2016-01-06</td>\n",
       "      <td>subjective</td>\n",
       "      <td>negative</td>\n",
       "      <td>negative</td>\n",
       "      <td>down</td>\n",
       "      <td>up</td>\n",
       "      <td>down</td>\n",
       "      <td>down</td>\n",
       "      <td>down</td>\n",
       "      <td>down</td>\n",
       "      <td>0.564718</td>\n",
       "      <td>up</td>\n",
       "    </tr>\n",
       "    <tr>\n",
       "      <th>3</th>\n",
       "      <td>2016-01-07</td>\n",
       "      <td>objective</td>\n",
       "      <td>positive</td>\n",
       "      <td>negative</td>\n",
       "      <td>down</td>\n",
       "      <td>down</td>\n",
       "      <td>down</td>\n",
       "      <td>down</td>\n",
       "      <td>down</td>\n",
       "      <td>up</td>\n",
       "      <td>0.564718</td>\n",
       "      <td>up</td>\n",
       "    </tr>\n",
       "    <tr>\n",
       "      <th>4</th>\n",
       "      <td>2016-01-08</td>\n",
       "      <td>subjective</td>\n",
       "      <td>positive</td>\n",
       "      <td>negative</td>\n",
       "      <td>up</td>\n",
       "      <td>down</td>\n",
       "      <td>up</td>\n",
       "      <td>down</td>\n",
       "      <td>down</td>\n",
       "      <td>up</td>\n",
       "      <td>0.509615</td>\n",
       "      <td>up</td>\n",
       "    </tr>\n",
       "  </tbody>\n",
       "</table>\n",
       "</div>"
      ],
      "text/plain": [
       "         Date subjectivity  polarity sentiment djia_close1 djia_volume  \\\n",
       "0  2016-01-04   subjective  positive  negative          up        down   \n",
       "1  2016-01-05   subjective  positive  negative        down          up   \n",
       "2  2016-01-06   subjective  negative  negative        down          up   \n",
       "3  2016-01-07    objective  positive  negative        down        down   \n",
       "4  2016-01-08   subjective  positive  negative          up        down   \n",
       "\n",
       "  qqq_close axjo_close clf_close djia_close2         p djia_close2_pred  \n",
       "0      down       down      down        down  0.518779             down  \n",
       "1      down       down      down        down  0.564718               up  \n",
       "2      down       down      down        down  0.564718               up  \n",
       "3      down       down      down          up  0.564718               up  \n",
       "4        up       down      down          up  0.509615               up  "
      ]
     },
     "execution_count": 17,
     "metadata": {},
     "output_type": "execute_result"
    }
   ],
   "source": [
    "df_combined = pd.concat([df_test2, Pout], axis=1)\n",
    "df_combined.head(5)"
   ]
  },
  {
   "cell_type": "code",
   "execution_count": 18,
   "id": "7ecf04f4",
   "metadata": {},
   "outputs": [
    {
     "data": {
      "text/plain": [
       "Text(0.5, 1.0, 'Actual')"
      ]
     },
     "execution_count": 18,
     "metadata": {},
     "output_type": "execute_result"
    },
    {
     "data": {
      "image/png": "[encoded data removed]",
      "text/plain": [
       "<Figure size 432x288 with 1 Axes>"
      ]
     },
     "metadata": {
      "needs_background": "light"
     },
     "output_type": "display_data"
    }
   ],
   "source": [
    "sns.lineplot(data=df_combined, x=\"Date\", y=\"djia_close2\").set_title(\"Actual\")"
   ]
  },
  {
   "cell_type": "code",
   "execution_count": 19,
   "id": "0aaeac90",
   "metadata": {},
   "outputs": [
    {
     "data": {
      "text/plain": [
       "Text(0.5, 1.0, 'Predicted')"
      ]
     },
     "execution_count": 19,
     "metadata": {},
     "output_type": "execute_result"
    },
    {
     "data": {
      "image/png": "[encoded data removed]",
      "text/plain": [
       "<Figure size 432x288 with 1 Axes>"
      ]
     },
     "metadata": {
      "needs_background": "light"
     },
     "output_type": "display_data"
    }
   ],
   "source": [
    "sns.lineplot(data=df_combined, x=\"Date\", y=\"djia_close2_pred\").set_title(\"Predicted\")"
   ]
  },
  {
   "cell_type": "code",
   "execution_count": 20,
   "id": "20432f3e",
   "metadata": {},
   "outputs": [],
   "source": [
    "pred = list(Pout['djia_close2_pred'])\n",
    "actual = list(df_test['djia_close2'])"
   ]
  },
  {
   "cell_type": "code",
   "execution_count": 21,
   "id": "f53bed42",
   "metadata": {},
   "outputs": [
    {
     "data": {
      "text/plain": [
       "(65, 8, 41, 6)"
      ]
     },
     "execution_count": 21,
     "metadata": {},
     "output_type": "execute_result"
    }
   ],
   "source": [
    "from sklearn.metrics import confusion_matrix\n",
    "\n",
    "confusion = confusion_matrix(actual, pred)\n",
    "FN = confusion[1][0]\n",
    "TN = confusion[0][0]\n",
    "TP = confusion[1][1]\n",
    "FP = confusion[0][1]\n",
    "\n",
    "TP, TN, FP, FN"
   ]
  },
  {
   "cell_type": "code",
   "execution_count": 22,
   "id": "ccb57fd7",
   "metadata": {},
   "outputs": [
    {
     "name": "stdout",
     "output_type": "stream",
     "text": [
      "91.54929577464789\n"
     ]
    }
   ],
   "source": [
    "recall = (TP)/(TP+FN)\n",
    "print(recall*100)"
   ]
  },
  {
   "cell_type": "code",
   "execution_count": 23,
   "id": "088f421e",
   "metadata": {},
   "outputs": [
    {
     "name": "stdout",
     "output_type": "stream",
     "text": [
      "0.6132075471698113\n"
     ]
    }
   ],
   "source": [
    "precision = TP/(TP+FP)\n",
    "print(precision)"
   ]
  },
  {
   "cell_type": "code",
   "execution_count": 24,
   "id": "5cbc39fc",
   "metadata": {},
   "outputs": [
    {
     "data": {
      "image/png": "[encoded data removed]",
      "text/plain": [
       "<Figure size 432x288 with 2 Axes>"
      ]
     },
     "metadata": {
      "needs_background": "light"
     },
     "output_type": "display_data"
    }
   ],
   "source": [
    "import seaborn as sns\n",
    "import matplotlib.pyplot as plt\n",
    "\n",
    "sns.heatmap(confusion , annot=True , xticklabels=['down', 'up'] , yticklabels=['down', 'up'], cmap='Blues')\n",
    "plt.ylabel(\"Actual\")\n",
    "plt.xlabel(\"Predicted\")\n",
    "plt.show()"
   ]
  },
  {
   "cell_type": "code",
   "execution_count": 25,
   "id": "05a68497",
   "metadata": {},
   "outputs": [
    {
     "name": "stdout",
     "output_type": "stream",
     "text": [
      "60.83333333333333\n"
     ]
    }
   ],
   "source": [
    "from sklearn.metrics import accuracy_score\n",
    "print(accuracy_score(actual,pred)*100)"
   ]
  },
  {
   "cell_type": "code",
   "execution_count": 26,
   "id": "67f55b15",
   "metadata": {},
   "outputs": [
    {
     "name": "stdout",
     "output_type": "stream",
     "text": [
      "              precision    recall  f1-score   support\n",
      "\n",
      "        down       0.57      0.16      0.25        49\n",
      "          up       0.61      0.92      0.73        71\n",
      "\n",
      "    accuracy                           0.61       120\n",
      "   macro avg       0.59      0.54      0.49       120\n",
      "weighted avg       0.60      0.61      0.54       120\n",
      "\n"
     ]
    }
   ],
   "source": [
    "from sklearn.metrics import classification_report\n",
    "print(classification_report(actual,pred))"
   ]
  },
  {
   "cell_type": "code",
   "execution_count": null,
   "id": "02d7d78b",
   "metadata": {},
   "outputs": [],
   "source": []
  }
 ],
 "metadata": {
  "kernelspec": {
   "display_name": "Python 3 (ipykernel)",
   "language": "python",
   "name": "python3"
  },
  "language_info": {
   "codemirror_mode": {
    "name": "ipython",
    "version": 3
   },
   "file_extension": ".py",
   "mimetype": "text/x-python",
   "name": "python",
   "nbconvert_exporter": "python",
   "pygments_lexer": "ipython3",
   "version": "3.7.11"
  }
 },
 "nbformat": 4,
 "nbformat_minor": 5
}
